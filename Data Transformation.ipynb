{
 "cells": [
  {
   "cell_type": "markdown",
   "id": "180ec918",
   "metadata": {},
   "source": [
    "# Methods To transform Data"
   ]
  },
  {
   "cell_type": "code",
   "execution_count": 1,
   "id": "d7703c3b",
   "metadata": {},
   "outputs": [],
   "source": [
    "import pandas as pd"
   ]
  },
  {
   "cell_type": "code",
   "execution_count": 3,
   "id": "7b28e542",
   "metadata": {},
   "outputs": [],
   "source": [
    "happiness2015=pd.read_csv(\"happiness2015.csv\")"
   ]
  },
  {
   "cell_type": "code",
   "execution_count": 4,
   "id": "52402f6e",
   "metadata": {},
   "outputs": [],
   "source": [
    "mapping = {'Economy (GDP per Capita)': 'Economy', 'Health (Life Expectancy)': 'Health', 'Trust (Government Corruption)': 'Trust' }\n",
    "\n",
    "happiness2015=happiness2015.rename(mapping,axis=1)"
   ]
  },
  {
   "cell_type": "markdown",
   "id": "38ae2085",
   "metadata": {},
   "source": [
    "## Convert numbers in Economy Column to categories that indicate whether the factor has a high impact on the happiness score or a low impact \n",
    "\n",
    "##### We can make it Using two Function in Pandas\n",
    "### .map() method\n",
    "### .apply() method\n",
    "\n",
    "\n",
    "Apply a function element-wise to a columnWhen we say element-wise, we mean that we pass the function one value in the series at a time and it performs some kind of transformation."
   ]
  },
  {
   "cell_type": "code",
   "execution_count": 5,
   "id": "bfb98231",
   "metadata": {},
   "outputs": [],
   "source": [
    "def label(element):\n",
    "    if element > 1:\n",
    "        return 'High'\n",
    "    else:\n",
    "        return 'Low'"
   ]
  },
  {
   "cell_type": "code",
   "execution_count": 46,
   "id": "16b59ca2",
   "metadata": {},
   "outputs": [
    {
     "data": {
      "text/plain": [
       "0      High\n",
       "1      High\n",
       "2      High\n",
       "3      High\n",
       "4      High\n",
       "       ... \n",
       "153     Low\n",
       "154     Low\n",
       "155     Low\n",
       "156     Low\n",
       "157     Low\n",
       "Name: Economy Impact 2, Length: 158, dtype: object"
      ]
     },
     "execution_count": 46,
     "metadata": {},
     "output_type": "execute_result"
    }
   ],
   "source": [
    "#map() and apply() iterate through the Economy column and pass each value into the label function. \n",
    "#The function evaluates which range the value belongs to and assigns the corresponding value to the element in the new column.\n",
    "happiness2015['Economy Impact'] = economy_impact_map=happiness2015['Economy'].map(label)\n",
    "happiness2015['Economy Impact 2'] = economy_impact_apply=happiness2015['Economy'].apply(label)\n",
    "equal=economy_impact_map.equals(economy_impact_apply)\n"
   ]
  },
  {
   "cell_type": "markdown",
   "id": "c5cb2b47",
   "metadata": {},
   "source": [
    "## The difference between apply and map that \n",
    "#### map() function can't take argument as parameter to compare values with \n",
    "#### but Apply() can take it "
   ]
  },
  {
   "cell_type": "code",
   "execution_count": 16,
   "id": "1369df37",
   "metadata": {},
   "outputs": [],
   "source": [
    "def label(element,x):\n",
    "    if element > x:\n",
    "        return 'High'\n",
    "    else:\n",
    "        return 'Low'\n",
    "economy_impact_apply = happiness2015['Economy'].apply(label,x=0.8)"
   ]
  },
  {
   "cell_type": "markdown",
   "id": "020c2618",
   "metadata": {},
   "source": [
    "###  DataFrame.applymap() method that can apply functions element-wise to multiple columns at once "
   ]
  },
  {
   "cell_type": "code",
   "execution_count": 45,
   "id": "9d25182f",
   "metadata": {},
   "outputs": [],
   "source": [
    "def label(element):\n",
    "    if element > 1:\n",
    "        return 'High'\n",
    "    else:\n",
    "        return 'Low'\n",
    "economy_apply = happiness2015['Economy'].apply(label)\n",
    "factors = ['Economy', 'Family', 'Health', 'Freedom', 'Trust', 'Generosity']\n",
    "\n",
    "factors_impact=happiness2015[factors].applymap(label)\n"
   ]
  },
  {
   "cell_type": "markdown",
   "id": "ff7a801e",
   "metadata": {},
   "source": [
    "###### Note that : we can only use apply Method to transform multiple columns when we used pd.value_counts function operates on a series \n",
    "but If we tried to use the df.apply() method to apply a function that works element-wise to multiple columns such happiness2015[factors].apply(label)"
   ]
  },
  {
   "cell_type": "code",
   "execution_count": 51,
   "id": "0a35eea6",
   "metadata": {},
   "outputs": [
    {
     "data": {
      "text/html": [
       "<div>\n",
       "<style scoped>\n",
       "    .dataframe tbody tr th:only-of-type {\n",
       "        vertical-align: middle;\n",
       "    }\n",
       "\n",
       "    .dataframe tbody tr th {\n",
       "        vertical-align: top;\n",
       "    }\n",
       "\n",
       "    .dataframe thead th {\n",
       "        text-align: right;\n",
       "    }\n",
       "</style>\n",
       "<table border=\"1\" class=\"dataframe\">\n",
       "  <thead>\n",
       "    <tr style=\"text-align: right;\">\n",
       "      <th></th>\n",
       "      <th>Economy</th>\n",
       "      <th>Family</th>\n",
       "      <th>Health</th>\n",
       "      <th>Freedom</th>\n",
       "      <th>Trust</th>\n",
       "      <th>Generosity</th>\n",
       "    </tr>\n",
       "  </thead>\n",
       "  <tbody>\n",
       "    <tr>\n",
       "      <th>High</th>\n",
       "      <td>66</td>\n",
       "      <td>89</td>\n",
       "      <td>2</td>\n",
       "      <td>NaN</td>\n",
       "      <td>NaN</td>\n",
       "      <td>NaN</td>\n",
       "    </tr>\n",
       "    <tr>\n",
       "      <th>Low</th>\n",
       "      <td>92</td>\n",
       "      <td>69</td>\n",
       "      <td>156</td>\n",
       "      <td>158.0</td>\n",
       "      <td>158.0</td>\n",
       "      <td>158.0</td>\n",
       "    </tr>\n",
       "  </tbody>\n",
       "</table>\n",
       "</div>"
      ],
      "text/plain": [
       "      Economy  Family  Health  Freedom  Trust  Generosity\n",
       "High       66      89       2      NaN    NaN         NaN\n",
       "Low        92      69     156    158.0  158.0       158.0"
      ]
     },
     "execution_count": 51,
     "metadata": {},
     "output_type": "execute_result"
    }
   ],
   "source": [
    "#Calculate the number of 'High' and 'Low' values in each column\n",
    "factors_impact.apply(pd.value_counts)\n"
   ]
  },
  {
   "cell_type": "markdown",
   "id": "d34828cf",
   "metadata": {},
   "source": [
    "### Create a function that calculates the percentage of 'High' and 'Low' values in each column"
   ]
  },
  {
   "cell_type": "code",
   "execution_count": 20,
   "id": "f1509b9e",
   "metadata": {},
   "outputs": [],
   "source": [
    "def v_counts(col):\n",
    "    num=col.value_counts()\n",
    "    den=col.size\n",
    "    return num/den\n",
    "v_counts_pct=factors_impact.apply(v_counts)"
   ]
  },
  {
   "cell_type": "code",
   "execution_count": 21,
   "id": "61234099",
   "metadata": {},
   "outputs": [
    {
     "data": {
      "text/html": [
       "<div>\n",
       "<style scoped>\n",
       "    .dataframe tbody tr th:only-of-type {\n",
       "        vertical-align: middle;\n",
       "    }\n",
       "\n",
       "    .dataframe tbody tr th {\n",
       "        vertical-align: top;\n",
       "    }\n",
       "\n",
       "    .dataframe thead th {\n",
       "        text-align: right;\n",
       "    }\n",
       "</style>\n",
       "<table border=\"1\" class=\"dataframe\">\n",
       "  <thead>\n",
       "    <tr style=\"text-align: right;\">\n",
       "      <th></th>\n",
       "      <th>Economy</th>\n",
       "      <th>Family</th>\n",
       "      <th>Health</th>\n",
       "      <th>Freedom</th>\n",
       "      <th>Trust</th>\n",
       "      <th>Generosity</th>\n",
       "    </tr>\n",
       "  </thead>\n",
       "  <tbody>\n",
       "    <tr>\n",
       "      <th>High</th>\n",
       "      <td>0.417722</td>\n",
       "      <td>0.563291</td>\n",
       "      <td>0.012658</td>\n",
       "      <td>NaN</td>\n",
       "      <td>NaN</td>\n",
       "      <td>NaN</td>\n",
       "    </tr>\n",
       "    <tr>\n",
       "      <th>Low</th>\n",
       "      <td>0.582278</td>\n",
       "      <td>0.436709</td>\n",
       "      <td>0.987342</td>\n",
       "      <td>1.0</td>\n",
       "      <td>1.0</td>\n",
       "      <td>1.0</td>\n",
       "    </tr>\n",
       "  </tbody>\n",
       "</table>\n",
       "</div>"
      ],
      "text/plain": [
       "       Economy    Family    Health  Freedom  Trust  Generosity\n",
       "High  0.417722  0.563291  0.012658      NaN    NaN         NaN\n",
       "Low   0.582278  0.436709  0.987342      1.0    1.0         1.0"
      ]
     },
     "execution_count": 21,
     "metadata": {},
     "output_type": "execute_result"
    }
   ],
   "source": [
    "v_counts_pct"
   ]
  },
  {
   "cell_type": "code",
   "execution_count": 25,
   "id": "00888b80",
   "metadata": {},
   "outputs": [],
   "source": [
    "def percentages(col):\n",
    "    div = col/happiness2015['Happiness Score'] \n",
    "    return div * 100\n",
    "factor_percentages = happiness2015[factors].apply(percentages)"
   ]
  },
  {
   "cell_type": "code",
   "execution_count": 26,
   "id": "a6052a89",
   "metadata": {},
   "outputs": [
    {
     "data": {
      "text/html": [
       "<div>\n",
       "<style scoped>\n",
       "    .dataframe tbody tr th:only-of-type {\n",
       "        vertical-align: middle;\n",
       "    }\n",
       "\n",
       "    .dataframe tbody tr th {\n",
       "        vertical-align: top;\n",
       "    }\n",
       "\n",
       "    .dataframe thead th {\n",
       "        text-align: right;\n",
       "    }\n",
       "</style>\n",
       "<table border=\"1\" class=\"dataframe\">\n",
       "  <thead>\n",
       "    <tr style=\"text-align: right;\">\n",
       "      <th></th>\n",
       "      <th>Economy</th>\n",
       "      <th>Family</th>\n",
       "      <th>Health</th>\n",
       "      <th>Freedom</th>\n",
       "      <th>Trust</th>\n",
       "      <th>Generosity</th>\n",
       "    </tr>\n",
       "  </thead>\n",
       "  <tbody>\n",
       "    <tr>\n",
       "      <th>0</th>\n",
       "      <td>18.406617</td>\n",
       "      <td>17.787136</td>\n",
       "      <td>12.408462</td>\n",
       "      <td>8.772506</td>\n",
       "      <td>5.532885</td>\n",
       "      <td>3.911691</td>\n",
       "    </tr>\n",
       "    <tr>\n",
       "      <th>1</th>\n",
       "      <td>17.224177</td>\n",
       "      <td>18.545563</td>\n",
       "      <td>12.535908</td>\n",
       "      <td>8.315963</td>\n",
       "      <td>1.870784</td>\n",
       "      <td>5.770401</td>\n",
       "    </tr>\n",
       "    <tr>\n",
       "      <th>2</th>\n",
       "      <td>17.609672</td>\n",
       "      <td>18.075993</td>\n",
       "      <td>11.620035</td>\n",
       "      <td>8.627342</td>\n",
       "      <td>6.424472</td>\n",
       "      <td>4.535539</td>\n",
       "    </tr>\n",
       "    <tr>\n",
       "      <th>3</th>\n",
       "      <td>19.396437</td>\n",
       "      <td>17.694097</td>\n",
       "      <td>11.768280</td>\n",
       "      <td>8.903616</td>\n",
       "      <td>4.852832</td>\n",
       "      <td>4.613002</td>\n",
       "    </tr>\n",
       "    <tr>\n",
       "      <th>4</th>\n",
       "      <td>17.857681</td>\n",
       "      <td>17.808132</td>\n",
       "      <td>12.193753</td>\n",
       "      <td>8.522553</td>\n",
       "      <td>4.437458</td>\n",
       "      <td>6.168170</td>\n",
       "    </tr>\n",
       "    <tr>\n",
       "      <th>...</th>\n",
       "      <td>...</td>\n",
       "      <td>...</td>\n",
       "      <td>...</td>\n",
       "      <td>...</td>\n",
       "      <td>...</td>\n",
       "      <td>...</td>\n",
       "    </tr>\n",
       "    <tr>\n",
       "      <th>153</th>\n",
       "      <td>6.409235</td>\n",
       "      <td>22.329004</td>\n",
       "      <td>12.370563</td>\n",
       "      <td>17.085426</td>\n",
       "      <td>15.928139</td>\n",
       "      <td>6.530447</td>\n",
       "    </tr>\n",
       "    <tr>\n",
       "      <th>154</th>\n",
       "      <td>8.582335</td>\n",
       "      <td>10.594611</td>\n",
       "      <td>9.553892</td>\n",
       "      <td>14.505988</td>\n",
       "      <td>2.398204</td>\n",
       "      <td>5.467066</td>\n",
       "    </tr>\n",
       "    <tr>\n",
       "      <th>155</th>\n",
       "      <td>22.062542</td>\n",
       "      <td>15.798071</td>\n",
       "      <td>24.016301</td>\n",
       "      <td>5.217565</td>\n",
       "      <td>6.289421</td>\n",
       "      <td>15.694943</td>\n",
       "    </tr>\n",
       "    <tr>\n",
       "      <th>156</th>\n",
       "      <td>0.526678</td>\n",
       "      <td>14.315663</td>\n",
       "      <td>7.709466</td>\n",
       "      <td>4.079174</td>\n",
       "      <td>3.463683</td>\n",
       "      <td>6.790706</td>\n",
       "    </tr>\n",
       "    <tr>\n",
       "      <th>157</th>\n",
       "      <td>7.350476</td>\n",
       "      <td>4.929553</td>\n",
       "      <td>10.018669</td>\n",
       "      <td>12.840085</td>\n",
       "      <td>3.779852</td>\n",
       "      <td>5.875660</td>\n",
       "    </tr>\n",
       "  </tbody>\n",
       "</table>\n",
       "<p>158 rows × 6 columns</p>\n",
       "</div>"
      ],
      "text/plain": [
       "       Economy     Family     Health    Freedom      Trust  Generosity\n",
       "0    18.406617  17.787136  12.408462   8.772506   5.532885    3.911691\n",
       "1    17.224177  18.545563  12.535908   8.315963   1.870784    5.770401\n",
       "2    17.609672  18.075993  11.620035   8.627342   6.424472    4.535539\n",
       "3    19.396437  17.694097  11.768280   8.903616   4.852832    4.613002\n",
       "4    17.857681  17.808132  12.193753   8.522553   4.437458    6.168170\n",
       "..         ...        ...        ...        ...        ...         ...\n",
       "153   6.409235  22.329004  12.370563  17.085426  15.928139    6.530447\n",
       "154   8.582335  10.594611   9.553892  14.505988   2.398204    5.467066\n",
       "155  22.062542  15.798071  24.016301   5.217565   6.289421   15.694943\n",
       "156   0.526678  14.315663   7.709466   4.079174   3.463683    6.790706\n",
       "157   7.350476   4.929553  10.018669  12.840085   3.779852    5.875660\n",
       "\n",
       "[158 rows x 6 columns]"
      ]
     },
     "execution_count": 26,
     "metadata": {},
     "output_type": "execute_result"
    }
   ],
   "source": [
    "factor_percentages"
   ]
  },
  {
   "cell_type": "markdown",
   "id": "0522a1a6",
   "metadata": {},
   "source": [
    "## Melt () Function to reshape data \"unpivoting for data\" tidy data Structure"
   ]
  },
  {
   "cell_type": "code",
   "execution_count": 43,
   "id": "fc78a758",
   "metadata": {},
   "outputs": [
    {
     "data": {
      "text/html": [
       "<div>\n",
       "<style scoped>\n",
       "    .dataframe tbody tr th:only-of-type {\n",
       "        vertical-align: middle;\n",
       "    }\n",
       "\n",
       "    .dataframe tbody tr th {\n",
       "        vertical-align: top;\n",
       "    }\n",
       "\n",
       "    .dataframe thead th {\n",
       "        text-align: right;\n",
       "    }\n",
       "</style>\n",
       "<table border=\"1\" class=\"dataframe\">\n",
       "  <thead>\n",
       "    <tr style=\"text-align: right;\">\n",
       "      <th></th>\n",
       "      <th>Country</th>\n",
       "      <th>Region</th>\n",
       "      <th>Happiness Rank</th>\n",
       "      <th>Happiness Score</th>\n",
       "      <th>variable</th>\n",
       "      <th>value</th>\n",
       "      <th>Percentage</th>\n",
       "    </tr>\n",
       "  </thead>\n",
       "  <tbody>\n",
       "    <tr>\n",
       "      <th>0</th>\n",
       "      <td>Switzerland</td>\n",
       "      <td>Western Europe</td>\n",
       "      <td>1</td>\n",
       "      <td>7.587</td>\n",
       "      <td>Economy</td>\n",
       "      <td>1.39651</td>\n",
       "      <td>18.41</td>\n",
       "    </tr>\n",
       "    <tr>\n",
       "      <th>1</th>\n",
       "      <td>Iceland</td>\n",
       "      <td>Western Europe</td>\n",
       "      <td>2</td>\n",
       "      <td>7.561</td>\n",
       "      <td>Economy</td>\n",
       "      <td>1.30232</td>\n",
       "      <td>17.22</td>\n",
       "    </tr>\n",
       "    <tr>\n",
       "      <th>2</th>\n",
       "      <td>Denmark</td>\n",
       "      <td>Western Europe</td>\n",
       "      <td>3</td>\n",
       "      <td>7.527</td>\n",
       "      <td>Economy</td>\n",
       "      <td>1.32548</td>\n",
       "      <td>17.61</td>\n",
       "    </tr>\n",
       "    <tr>\n",
       "      <th>3</th>\n",
       "      <td>Norway</td>\n",
       "      <td>Western Europe</td>\n",
       "      <td>4</td>\n",
       "      <td>7.522</td>\n",
       "      <td>Economy</td>\n",
       "      <td>1.45900</td>\n",
       "      <td>19.40</td>\n",
       "    </tr>\n",
       "    <tr>\n",
       "      <th>4</th>\n",
       "      <td>Canada</td>\n",
       "      <td>North America</td>\n",
       "      <td>5</td>\n",
       "      <td>7.427</td>\n",
       "      <td>Economy</td>\n",
       "      <td>1.32629</td>\n",
       "      <td>17.86</td>\n",
       "    </tr>\n",
       "    <tr>\n",
       "      <th>...</th>\n",
       "      <td>...</td>\n",
       "      <td>...</td>\n",
       "      <td>...</td>\n",
       "      <td>...</td>\n",
       "      <td>...</td>\n",
       "      <td>...</td>\n",
       "      <td>...</td>\n",
       "    </tr>\n",
       "    <tr>\n",
       "      <th>1101</th>\n",
       "      <td>Rwanda</td>\n",
       "      <td>Sub-Saharan Africa</td>\n",
       "      <td>154</td>\n",
       "      <td>3.465</td>\n",
       "      <td>Dystopia Residual</td>\n",
       "      <td>0.67042</td>\n",
       "      <td>19.35</td>\n",
       "    </tr>\n",
       "    <tr>\n",
       "      <th>1102</th>\n",
       "      <td>Benin</td>\n",
       "      <td>Sub-Saharan Africa</td>\n",
       "      <td>155</td>\n",
       "      <td>3.340</td>\n",
       "      <td>Dystopia Residual</td>\n",
       "      <td>1.63328</td>\n",
       "      <td>48.90</td>\n",
       "    </tr>\n",
       "    <tr>\n",
       "      <th>1103</th>\n",
       "      <td>Syria</td>\n",
       "      <td>Middle East and Northern Africa</td>\n",
       "      <td>156</td>\n",
       "      <td>3.006</td>\n",
       "      <td>Dystopia Residual</td>\n",
       "      <td>0.32858</td>\n",
       "      <td>10.93</td>\n",
       "    </tr>\n",
       "    <tr>\n",
       "      <th>1104</th>\n",
       "      <td>Burundi</td>\n",
       "      <td>Sub-Saharan Africa</td>\n",
       "      <td>157</td>\n",
       "      <td>2.905</td>\n",
       "      <td>Dystopia Residual</td>\n",
       "      <td>1.83302</td>\n",
       "      <td>63.10</td>\n",
       "    </tr>\n",
       "    <tr>\n",
       "      <th>1105</th>\n",
       "      <td>Togo</td>\n",
       "      <td>Sub-Saharan Africa</td>\n",
       "      <td>158</td>\n",
       "      <td>2.839</td>\n",
       "      <td>Dystopia Residual</td>\n",
       "      <td>1.56726</td>\n",
       "      <td>55.20</td>\n",
       "    </tr>\n",
       "  </tbody>\n",
       "</table>\n",
       "<p>1106 rows × 7 columns</p>\n",
       "</div>"
      ],
      "text/plain": [
       "          Country                           Region  Happiness Rank  \\\n",
       "0     Switzerland                   Western Europe               1   \n",
       "1         Iceland                   Western Europe               2   \n",
       "2         Denmark                   Western Europe               3   \n",
       "3          Norway                   Western Europe               4   \n",
       "4          Canada                    North America               5   \n",
       "...           ...                              ...             ...   \n",
       "1101       Rwanda               Sub-Saharan Africa             154   \n",
       "1102        Benin               Sub-Saharan Africa             155   \n",
       "1103        Syria  Middle East and Northern Africa             156   \n",
       "1104      Burundi               Sub-Saharan Africa             157   \n",
       "1105         Togo               Sub-Saharan Africa             158   \n",
       "\n",
       "      Happiness Score           variable    value  Percentage  \n",
       "0               7.587            Economy  1.39651       18.41  \n",
       "1               7.561            Economy  1.30232       17.22  \n",
       "2               7.527            Economy  1.32548       17.61  \n",
       "3               7.522            Economy  1.45900       19.40  \n",
       "4               7.427            Economy  1.32629       17.86  \n",
       "...               ...                ...      ...         ...  \n",
       "1101            3.465  Dystopia Residual  0.67042       19.35  \n",
       "1102            3.340  Dystopia Residual  1.63328       48.90  \n",
       "1103            3.006  Dystopia Residual  0.32858       10.93  \n",
       "1104            2.905  Dystopia Residual  1.83302       63.10  \n",
       "1105            2.839  Dystopia Residual  1.56726       55.20  \n",
       "\n",
       "[1106 rows x 7 columns]"
      ]
     },
     "execution_count": 43,
     "metadata": {},
     "output_type": "execute_result"
    }
   ],
   "source": [
    "# main _clos as multiple identifier for data \n",
    "main_cols = ['Country', 'Region', 'Happiness Rank', 'Happiness Score']\n",
    "# cols that changed to be rows \"values & variables\"\n",
    "factors = ['Economy', 'Family', 'Health', 'Freedom', 'Trust', 'Generosity', 'Dystopia Residual']\n",
    "# apply melted function\n",
    "melt=pd.melt(happiness2015,id_vars=main_cols,value_vars=factors)\n",
    "#create new column to calculate percentage pf happiness score for every row value \n",
    "melt['Percentage']=round(melt['value']/melt['Happiness Score']*100,2)\n",
    "melt"
   ]
  },
  {
   "cell_type": "markdown",
   "id": "4a6bb69a",
   "metadata": {},
   "source": [
    "# Question : Which two factors, on average, contribute the most to the happiness score\n",
    "\n",
    "####  Find the mean value of each Column, and plot the results to see how much each factor contributes to the happiness score on average\n"
   ]
  },
  {
   "cell_type": "code",
   "execution_count": 42,
   "id": "2260fbb6",
   "metadata": {},
   "outputs": [
    {
     "data": {
      "text/plain": [
       "<AxesSubplot:ylabel='value'>"
      ]
     },
     "execution_count": 42,
     "metadata": {},
     "output_type": "execute_result"
    },
    {
     "data": {
      "image/png": "[encoded data removed]",
      "text/plain": [
       "<Figure size 432x288 with 1 Axes>"
      ]
     },
     "metadata": {},
     "output_type": "display_data"
    }
   ],
   "source": [
    "# using pivot table which index will be column and its value in values\n",
    "pv_melt=melt.pivot_table(index='variable',values='value')\n",
    "pv_melt.plot(kind='pie',y='value',legend=False)"
   ]
  },
  {
   "cell_type": "markdown",
   "id": "b32bdba7",
   "metadata": {},
   "source": [
    "## Answer: Economy And Family "
   ]
  }
 ],
 "metadata": {
  "kernelspec": {
   "display_name": "Python 3",
   "language": "python",
   "name": "python3"
  },
  "language_info": {
   "codemirror_mode": {
    "name": "ipython",
    "version": 3
   },
   "file_extension": ".py",
   "mimetype": "text/x-python",
   "name": "python",
   "nbconvert_exporter": "python",
   "pygments_lexer": "ipython3",
   "version": "3.8.8"
  }
 },
 "nbformat": 4,
 "nbformat_minor": 5
}
