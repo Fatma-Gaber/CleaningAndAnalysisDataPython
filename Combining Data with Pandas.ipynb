{
 "cells": [
  {
   "cell_type": "markdown",
   "id": "53b6933b",
   "metadata": {},
   "source": [
    "# Combining Data Using Pandas"
   ]
  },
  {
   "cell_type": "code",
   "execution_count": 58,
   "id": "22f55f59",
   "metadata": {},
   "outputs": [],
   "source": [
    "import pandas as pd\n",
    "import numpy as np"
   ]
  },
  {
   "cell_type": "markdown",
   "id": "0d838690",
   "metadata": {},
   "source": [
    "#### Read All file CSV for differnet years And add Column to each data set represent it's year"
   ]
  },
  {
   "cell_type": "code",
   "execution_count": 5,
   "id": "be67d7bd",
   "metadata": {},
   "outputs": [],
   "source": [
    "happiness2015 = pd.read_csv(\"happiness2015.csv\")\n",
    "happiness2016=pd.read_csv(\"hapiness2016.csv\")\n",
    "happiness2017=pd.read_csv(\"hapiness2017.csv\")\n",
    "happiness2015[\"Year\"]=2015\n",
    "happiness2016[\"Year\"]=2016\n",
    "happiness2017[\"Year\"]=2017"
   ]
  },
  {
   "cell_type": "markdown",
   "id": "b5969aed",
   "metadata": {},
   "source": [
    "## 1-  Combine using pd.Concat([df1,df2]) function \n",
    " ##### there are two ways to combine which is take dataframes As a list  \"Gluging function\"\n",
    " 1- Stacked |Axis=0 \"default\"\n",
    " \n",
    " 2-Side By Side |Axis=1"
   ]
  },
  {
   "cell_type": "code",
   "execution_count": 19,
   "id": "149d58f2",
   "metadata": {},
   "outputs": [],
   "source": [
    "head_2015 = happiness2015[['Country','Happiness Score', 'Year']].head(3)\n",
    "head_2016 = happiness2016[['Country','Happiness Score', 'Year']].head(3)"
   ]
  },
  {
   "cell_type": "code",
   "execution_count": 18,
   "id": "4c692db3",
   "metadata": {},
   "outputs": [],
   "source": [
    "concat_axis0=pd.concat([head_2015,head_2016] ,axis=0)\n",
    "concat_axis1=pd.concat([head_2015,head_2016] ,axis=1)"
   ]
  },
  {
   "cell_type": "code",
   "execution_count": 20,
   "id": "cdcca5fa",
   "metadata": {},
   "outputs": [],
   "source": [
    "## To find The number of Row for each combining use len() function\n",
    "question1=len(concat_axis0) ## expected 6\n",
    "question2=len(concat_axis1)## expected 3"
   ]
  },
  {
   "cell_type": "markdown",
   "id": "5797aefd",
   "metadata": {},
   "source": [
    "### Concat  Two DataSets with different number of Columns "
   ]
  },
  {
   "cell_type": "code",
   "execution_count": 32,
   "id": "3c4048d1",
   "metadata": {},
   "outputs": [],
   "source": [
    "head_2015 = happiness2015[['Year','Country','Happiness Score', 'Standard Error']].head(4)\n",
    "head_2016 = happiness2016[['Country','Happiness Score', 'Year']].head(3)\n",
    "concat_axis0=pd.concat([head_2015,head_2016])"
   ]
  },
  {
   "cell_type": "code",
   "execution_count": 33,
   "id": "33f267b9",
   "metadata": {},
   "outputs": [
    {
     "data": {
      "text/html": [
       "<div>\n",
       "<style scoped>\n",
       "    .dataframe tbody tr th:only-of-type {\n",
       "        vertical-align: middle;\n",
       "    }\n",
       "\n",
       "    .dataframe tbody tr th {\n",
       "        vertical-align: top;\n",
       "    }\n",
       "\n",
       "    .dataframe thead th {\n",
       "        text-align: right;\n",
       "    }\n",
       "</style>\n",
       "<table border=\"1\" class=\"dataframe\">\n",
       "  <thead>\n",
       "    <tr style=\"text-align: right;\">\n",
       "      <th></th>\n",
       "      <th>Year</th>\n",
       "      <th>Country</th>\n",
       "      <th>Happiness Score</th>\n",
       "      <th>Standard Error</th>\n",
       "    </tr>\n",
       "  </thead>\n",
       "  <tbody>\n",
       "    <tr>\n",
       "      <th>0</th>\n",
       "      <td>2015</td>\n",
       "      <td>Switzerland</td>\n",
       "      <td>7.587</td>\n",
       "      <td>0.03411</td>\n",
       "    </tr>\n",
       "    <tr>\n",
       "      <th>1</th>\n",
       "      <td>2015</td>\n",
       "      <td>Iceland</td>\n",
       "      <td>7.561</td>\n",
       "      <td>0.04884</td>\n",
       "    </tr>\n",
       "    <tr>\n",
       "      <th>2</th>\n",
       "      <td>2015</td>\n",
       "      <td>Denmark</td>\n",
       "      <td>7.527</td>\n",
       "      <td>0.03328</td>\n",
       "    </tr>\n",
       "    <tr>\n",
       "      <th>3</th>\n",
       "      <td>2015</td>\n",
       "      <td>Norway</td>\n",
       "      <td>7.522</td>\n",
       "      <td>0.03880</td>\n",
       "    </tr>\n",
       "    <tr>\n",
       "      <th>0</th>\n",
       "      <td>2016</td>\n",
       "      <td>Denmark</td>\n",
       "      <td>7.526</td>\n",
       "      <td>NaN</td>\n",
       "    </tr>\n",
       "    <tr>\n",
       "      <th>1</th>\n",
       "      <td>2016</td>\n",
       "      <td>Switzerland</td>\n",
       "      <td>7.509</td>\n",
       "      <td>NaN</td>\n",
       "    </tr>\n",
       "    <tr>\n",
       "      <th>2</th>\n",
       "      <td>2016</td>\n",
       "      <td>Iceland</td>\n",
       "      <td>7.501</td>\n",
       "      <td>NaN</td>\n",
       "    </tr>\n",
       "  </tbody>\n",
       "</table>\n",
       "</div>"
      ],
      "text/plain": [
       "   Year      Country  Happiness Score  Standard Error\n",
       "0  2015  Switzerland            7.587         0.03411\n",
       "1  2015      Iceland            7.561         0.04884\n",
       "2  2015      Denmark            7.527         0.03328\n",
       "3  2015       Norway            7.522         0.03880\n",
       "0  2016      Denmark            7.526             NaN\n",
       "1  2016  Switzerland            7.509             NaN\n",
       "2  2016      Iceland            7.501             NaN"
      ]
     },
     "execution_count": 33,
     "metadata": {},
     "output_type": "execute_result"
    }
   ],
   "source": [
    "# indexes are duplicated so they could cause errors as we perform other data cleaning tasks.\n",
    "concat_axis0"
   ]
  },
  {
   "cell_type": "code",
   "execution_count": 34,
   "id": "73c1081d",
   "metadata": {},
   "outputs": [],
   "source": [
    "# ignore indexes\n",
    "concat_update_index=pd.concat([head_2015,head_2016],ignore_index=True)"
   ]
  },
  {
   "cell_type": "markdown",
   "id": "dc3656e0",
   "metadata": {},
   "source": [
    "## 2- Combine Using Merge() Function\n",
    " Combine only Horizontal (axis=1) | combine only two data frames \n",
    " \n",
    "  Note:combine dataframes on a key, a shared index or column So use keys with unique values to avoid duplicating data. On attribute"
   ]
  },
  {
   "cell_type": "code",
   "execution_count": 38,
   "id": "4b1a91f1",
   "metadata": {},
   "outputs": [],
   "source": [
    "three_2015=happiness2015[['Country','Happiness Rank','Year']].iloc[2:5]"
   ]
  },
  {
   "cell_type": "code",
   "execution_count": 39,
   "id": "ffb7975d",
   "metadata": {},
   "outputs": [],
   "source": [
    "three_2016=happiness2016[['Country','Happiness Rank','Year']].iloc[2:5]"
   ]
  },
  {
   "cell_type": "markdown",
   "id": "401c39cb",
   "metadata": {},
   "source": [
    "#### Differnet Type of Joins Can perfrom with Merge() Function"
   ]
  },
  {
   "cell_type": "code",
   "execution_count": 50,
   "id": "cab47f07",
   "metadata": {},
   "outputs": [],
   "source": [
    "# merged will maked a join for matched Rows only \n",
    "merged=pd.merge(left=three_2015,right=three_2016,on='Country')"
   ]
  },
  {
   "cell_type": "code",
   "execution_count": 51,
   "id": "ff370fbe",
   "metadata": {},
   "outputs": [],
   "source": [
    "#includes all of the rows from the \"left\" dataframe along with any rows from the \"right\" dataframe with a common key\n",
    "merged_left_updated = pd.merge(left=three_2015, right=three_2016, on='Country' ,how='left')"
   ]
  },
  {
   "cell_type": "code",
   "execution_count": 52,
   "id": "cbba91a9",
   "metadata": {},
   "outputs": [],
   "source": [
    " #includes all of the rows from the \"right\" dataframe along with any rows from the \"left\" dataframe with a common key\n",
    "merged_right_updated = pd.merge(left=three_2015, right=three_2016, on='Country' ,how='right')"
   ]
  },
  {
   "cell_type": "markdown",
   "id": "c08703ef",
   "metadata": {},
   "source": [
    "#### Change Suffixes of Column  which auto Created by merge ()function "
   ]
  },
  {
   "cell_type": "code",
   "execution_count": 53,
   "id": "02cc93f3",
   "metadata": {},
   "outputs": [],
   "source": [
    "merged_suffixes = pd.merge(left=three_2015, right=three_2016, how='left', on='Country',suffixes=('_2015', '_2016'))\n",
    "merged_updated_suffixes = pd.merge(left=three_2016, right=three_2015, how = 'left', on='Country',suffixes=('_2016', '_2015'))"
   ]
  },
  {
   "cell_type": "markdown",
   "id": "441ac529",
   "metadata": {},
   "source": [
    "### Join Using indexes parameter in Merge () function\n",
    "\n",
    "left_index=True , right_index=True"
   ]
  },
  {
   "cell_type": "code",
   "execution_count": 55,
   "id": "bf7ec9b1",
   "metadata": {},
   "outputs": [],
   "source": [
    "four_2015 = happiness2015[['Country','Happiness Rank','Year']].iloc[2:6]\n",
    "three_2016 = happiness2016[['Country','Happiness Rank','Year']].iloc[2:5]\n",
    "merge_index = pd.merge(left = four_2015,right = three_2016, left_index = True, right_index = True, \n",
    "                       suffixes = ('_2015','_2016'))"
   ]
  },
  {
   "cell_type": "markdown",
   "id": "d84ac5c0",
   "metadata": {},
   "source": [
    "# Question:\n",
    "### Did world happiness increase, decrease, or stay about the same from 2015 to 2017?"
   ]
  },
  {
   "cell_type": "code",
   "execution_count": 59,
   "id": "c2497927",
   "metadata": {},
   "outputs": [],
   "source": [
    "#Use a pivot table to aggregate the data according to Region.\n",
    "means = happiness2015.pivot_table('Happiness Score', 'Region', aggfunc=np.mean)"
   ]
  },
  {
   "cell_type": "code",
   "execution_count": 60,
   "id": "426147b8",
   "metadata": {},
   "outputs": [
    {
     "data": {
      "text/plain": [
       "<AxesSubplot:title={'center':'Mean Happiness Scores by Region'}, ylabel='Region'>"
      ]
     },
     "execution_count": 60,
     "metadata": {},
     "output_type": "execute_result"
    },
    {
     "data": {
      "image/png": "[encoded data removed]",
      "text/plain": [
       "<Figure size 432x288 with 1 Axes>"
      ]
     },
     "metadata": {
      "needs_background": "light"
     },
     "output_type": "display_data"
    }
   ],
   "source": [
    "#Use the `df.plot()` method to plot the results.\n",
    "means.plot(kind='barh', title='Mean Happiness Scores by Region', xlim=(0,10))"
   ]
  },
  {
   "cell_type": "code",
   "execution_count": null,
   "id": "91c0bed0",
   "metadata": {},
   "outputs": [],
   "source": [
    "# Rename Column name of dataset 2017 to match aother Column name\n",
    "happiness2017.rename(columns={'Happiness.Score': 'Happiness Score'}, inplace=True)"
   ]
  },
  {
   "cell_type": "code",
   "execution_count": 66,
   "id": "2fad6477",
   "metadata": {},
   "outputs": [],
   "source": [
    "combined=pd.concat([happiness2015,happiness2016,happiness2017])"
   ]
  },
  {
   "cell_type": "code",
   "execution_count": 68,
   "id": "fd8f80b5",
   "metadata": {},
   "outputs": [
    {
     "data": {
      "text/plain": [
       "<AxesSubplot:title={'center':'Mean Happiness Scores by Year'}, ylabel='Year'>"
      ]
     },
     "execution_count": 68,
     "metadata": {},
     "output_type": "execute_result"
    },
    {
     "data": {
      "image/png": "[encoded data removed]",
      "text/plain": [
       "<Figure size 432x288 with 1 Axes>"
      ]
     },
     "metadata": {
      "needs_background": "light"
     },
     "output_type": "display_data"
    }
   ],
   "source": [
    "# Group mean happing score  values by year \n",
    "pivot_table_combined = combined.pivot_table(index='Year', values='Happiness Score', aggfunc=np.mean)\n",
    "pivot_table_combined.plot(kind='barh', title='Mean Happiness Scores by Year', xlim=(0,10))"
   ]
  },
  {
   "cell_type": "markdown",
   "id": "a2d61599",
   "metadata": {},
   "source": [
    "##  Answer :the mean world happiness score stayed approximately the same from 2015 to 2017"
   ]
  }
 ],
 "metadata": {
  "kernelspec": {
   "display_name": "Python 3",
   "language": "python",
   "name": "python3"
  },
  "language_info": {
   "codemirror_mode": {
    "name": "ipython",
    "version": 3
   },
   "file_extension": ".py",
   "mimetype": "text/x-python",
   "name": "python",
   "nbconvert_exporter": "python",
   "pygments_lexer": "ipython3",
   "version": "3.8.8"
  }
 },
 "nbformat": 4,
 "nbformat_minor": 5
}
